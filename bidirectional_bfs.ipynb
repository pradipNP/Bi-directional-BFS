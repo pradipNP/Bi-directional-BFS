{
  "nbformat": 4,
  "nbformat_minor": 0,
  "metadata": {
    "colab": {
      "provenance": [],
      "include_colab_link": true
    },
    "kernelspec": {
      "name": "python3",
      "display_name": "Python 3"
    },
    "language_info": {
      "name": "python"
    }
  },
  "cells": [
    {
      "cell_type": "markdown",
      "metadata": {
        "id": "view-in-github",
        "colab_type": "text"
      },
      "source": [
        "<a href=\"https://colab.research.google.com/github/pradipNP/Bi-directional-BFS/blob/main/bidirectional_bfs.ipynb\" target=\"_parent\"><img src=\"https://colab.research.google.com/assets/colab-badge.svg\" alt=\"Open In Colab\"/></a>"
      ]
    },
    {
      "cell_type": "code",
      "execution_count": null,
      "metadata": {
        "colab": {
          "base_uri": "https://localhost:8080/",
          "height": 516
        },
        "id": "QJkm6ZCCbZJr",
        "outputId": "2cca7df4-c169-4e89-abd7-6b4466a01fe5"
      },
      "outputs": [
        {
          "output_type": "display_data",
          "data": {
            "text/plain": [
              "<Figure size 640x480 with 1 Axes>"
            ],
            "image/png": "[encoded data removed]"
          },
          "metadata": {}
        }
      ],
      "source": [
        "\n",
        "from collections import deque\n",
        "\n",
        "def bi_directional_bfs(graph, start, goal):\n",
        "    if start == goal:\n",
        "        return [start]\n",
        "\n",
        "    # Initialize front and back queues\n",
        "    front_queue = deque([start])\n",
        "    back_queue = deque([goal])\n",
        "\n",
        "    # Track visited nodes for both searches\n",
        "    front_visited = {start: None}\n",
        "    back_visited = {goal: None}\n",
        "\n",
        "    def intersect_node():\n",
        "        for node in front_visited:\n",
        "            if node in back_visited:\n",
        "                return node\n",
        "        return None\n",
        "\n",
        "    while front_queue and back_queue:\n",
        "        # Expand from the front (start side)\n",
        "        front_current = front_queue.popleft()\n",
        "        for neighbor in graph[front_current]:\n",
        "            if neighbor not in front_visited:\n",
        "                front_queue.append(neighbor)\n",
        "                front_visited[neighbor] = front_current\n",
        "            if neighbor in back_visited:\n",
        "                intersection = neighbor\n",
        "                return reconstruct_path(intersection, front_visited, back_visited)\n",
        "\n",
        "        # Expand from the back (goal side)\n",
        "        back_current = back_queue.popleft()\n",
        "        for neighbor in graph[back_current]:\n",
        "            if neighbor not in back_visited:\n",
        "                back_queue.append(neighbor)\n",
        "                back_visited[neighbor] = back_current\n",
        "            if neighbor in front_visited:\n",
        "                intersection = neighbor\n",
        "                return reconstruct_path(intersection, front_visited, back_visited)\n",
        "\n",
        "    return None\n",
        "\n",
        "def reconstruct_path(intersection, front_visited, back_visited):\n",
        "    # Reconstruct path from start to goal\n",
        "    path = []\n",
        "\n",
        "    # Traverse forward from the intersection\n",
        "    current = intersection\n",
        "    while current is not None:\n",
        "        path.append(current)\n",
        "        current = front_visited[current]\n",
        "    path.reverse()\n",
        "\n",
        "    # Traverse backward from the intersection\n",
        "    current = back_visited[intersection]\n",
        "    while current is not None:\n",
        "        path.append(current)\n",
        "        current = back_visited[current]\n",
        "\n",
        "    return path\n",
        "\n",
        "\n",
        "#Compare Performance: Bi-Directional BFS vs. BFS vs. DFS\n",
        "\n",
        "def bfs(graph, start, goal):\n",
        "    queue = deque([start])\n",
        "    visited = {start: None}\n",
        "\n",
        "    while queue:\n",
        "        current = queue.popleft()\n",
        "\n",
        "        if current == goal:\n",
        "            return reconstruct_path(current, visited)\n",
        "\n",
        "        for neighbor in graph[current]:\n",
        "            if neighbor not in visited:\n",
        "                visited[neighbor] = current\n",
        "                queue.append(neighbor)\n",
        "\n",
        "    return None\n",
        "\n",
        "#DFS Implementation:\n",
        "\n",
        "def dfs(graph, start, goal):\n",
        "    stack = [start]\n",
        "    visited = {start: None}\n",
        "\n",
        "    while stack:\n",
        "        current = stack.pop()\n",
        "\n",
        "        if current == goal:\n",
        "            return reconstruct_path(current, visited)\n",
        "\n",
        "        for neighbor in graph[current]:\n",
        "            if neighbor not in visited:\n",
        "                visited[neighbor] = current\n",
        "                stack.append(neighbor)\n",
        "\n",
        "    return None\n",
        "\n",
        "#Visualization of the Search Process:\n",
        "\n",
        "import networkx as nx\n",
        "import matplotlib.pyplot as plt\n",
        "\n",
        "def visualize_graph(graph, path=None):\n",
        "    G = nx.Graph()\n",
        "\n",
        "    for node, neighbors in graph.items():\n",
        "        for neighbor in neighbors:\n",
        "            G.add_edge(node, neighbor)\n",
        "\n",
        "    pos = nx.spring_layout(G)\n",
        "\n",
        "    # Draw the graph\n",
        "    nx.draw(G, pos, with_labels=True, node_color='lightblue', node_size=500, font_size=10, font_weight='bold')\n",
        "\n",
        "    # Highlight the path if provided\n",
        "    if path:\n",
        "        path_edges = [(path[i], path[i+1]) for i in range(len(path) - 1)]\n",
        "        nx.draw_networkx_edges(G, pos, edgelist=path_edges, edge_color='red', width=2)\n",
        "\n",
        "    plt.show()\n",
        "\n",
        "# Example graph representation\n",
        "graph = {\n",
        "    'A': ['B', 'C'],\n",
        "    'B': ['A', 'D', 'E'],\n",
        "    'C': ['A', 'F'],\n",
        "    'D': ['B'],\n",
        "    'E': ['B', 'F'],\n",
        "    'F': ['C', 'E']\n",
        "}\n",
        "\n",
        "path = bi_directional_bfs(graph, 'A', 'F')\n",
        "visualize_graph(graph, path)"
      ]
    },
    {
      "cell_type": "markdown",
      "source": [
        "# New Section"
      ],
      "metadata": {
        "id": "eZJ-XqDxsZbO"
      }
    }
  ]
}